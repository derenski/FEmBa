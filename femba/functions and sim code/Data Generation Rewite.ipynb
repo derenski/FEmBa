{
 "cells": [
  {
   "cell_type": "code",
   "execution_count": 10,
   "metadata": {},
   "outputs": [],
   "source": [
    "library(stringr)\n",
    "library(reshape2)\n",
    "library(openxlsx)\n",
    "library(mvtnorm)\n",
    "library(splines2)\n",
    "library(fastICA)\n",
    "library(ggplot2)\n",
    "library(LaplacesDemon)\n",
    "library(MASS)\n",
    "library(glmnet)\n",
    "library(stringr)\n",
    "library(dplyr)\n",
    "library(gtools)\n",
    "library(splines)\n",
    "library(foreach)\n",
    "library(doParallel)\n",
    "library(ica)\n",
    "library(Pareto)"
   ]
  },
  {
   "cell_type": "code",
   "execution_count": 11,
   "metadata": {},
   "outputs": [],
   "source": [
    "source(\"Function Data Simulation Parameter Makers.R\")\n",
    "source(\"Tweedie's Formula Multivariate and Score Function.R\")\n",
    "source(\"Eigenbasis Estimator With Traditional PCA.R\")"
   ]
  },
  {
   "cell_type": "code",
   "execution_count": null,
   "metadata": {},
   "outputs": [],
   "source": []
  },
  {
   "cell_type": "code",
   "execution_count": null,
   "metadata": {},
   "outputs": [],
   "source": []
  },
  {
   "cell_type": "code",
   "execution_count": null,
   "metadata": {},
   "outputs": [],
   "source": []
  },
  {
   "cell_type": "code",
   "execution_count": null,
   "metadata": {},
   "outputs": [],
   "source": []
  },
  {
   "cell_type": "code",
   "execution_count": null,
   "metadata": {},
   "outputs": [],
   "source": []
  },
  {
   "cell_type": "code",
   "execution_count": null,
   "metadata": {},
   "outputs": [],
   "source": []
  },
  {
   "cell_type": "code",
   "execution_count": null,
   "metadata": {},
   "outputs": [],
   "source": []
  },
  {
   "cell_type": "code",
   "execution_count": 12,
   "metadata": {},
   "outputs": [],
   "source": [
    "curve_generator_forceICA <- function(n_obs, Sigma_mu, SNR, \n",
    "                            sigma_e, unmixedCoordinateDist,\n",
    "                            times){\n",
    "  \n",
    "  ICAmodelDataMaker <- function(n, p, quantile_func, covMat){\n",
    "    \n",
    "    ### Generate unmixed data with NORTA\n",
    "    XPure <-   norta(10000, corr_mat = diag(rep(1,p)), distribution = quantile_func)\n",
    "    \n",
    "    XUnmixed <- norta(n, corr_mat = diag(rep(1,p)), distribution = quantile_func)\n",
    "      \n",
    "    XUnmixed <- matrixToPower(cov(t(XPure)), -.5) %*% XUnmixed\n",
    "    \n",
    "    ### True U in so(p)\n",
    "      ### Try generatingU from different distributions rexp(dim(XUnmixed )[1]^2, rate=10)\n",
    "    UTrue <- gramSchmidt(array(runif(dim(XUnmixed )[1]^2, min=-1, max=1), \n",
    "                               dim=rep(dim(XUnmixed )[1], 2)))$Q \n",
    "    \n",
    "    ### Covariance matrix to the -1/2 power\n",
    "    covMatMinusHalf <- matrixToPower(covMat, -.5)\n",
    "    \n",
    "    ### True unmixing matrix\n",
    "    trueW <- UTrue %*% covMatMinusHalf\n",
    "    \n",
    "    finalOutput <- list(Omega=XUnmixed, W=trueW)\n",
    "    \n",
    "    return(finalOutput)\n",
    "    \n",
    "  }\n",
    "  \n",
    "  p <- dim(Sigma_mu)[1]\n",
    "\n",
    "  S <- bSpline(times, degree = min(p,3), df = p, intercept = T)\n",
    "  \n",
    "  icaModelData <- ICAmodelDataMaker(n=n_obs, p=p, quantile_func=unmixedCoordinateDist,\n",
    "                                   covMat=Sigma_mu)\n",
    "    \n",
    "  Omegas <- icaModelData$Omega\n",
    "  \n",
    "  Wtheta <- icaModelData$W\n",
    "  \n",
    "  U <- icaModelData$W %*% matrixToPower(Sigma_mu, .5)\n",
    "  \n",
    "  gammas <- (1/sqrt(SNR))*norta(n_obs=n_obs, corr_mat=diag(rep(1, p)))\n",
    "    \n",
    "  Atheta <- solve(Wtheta)\n",
    "                                \n",
    "  thetas <- Atheta %*% (Omegas + gammas)\n",
    "  \n",
    "  Xs <- S %*% thetas\n",
    "\n",
    "  e_noise <- rmvnorm(n_obs, mean = rep(0,length(times)),\n",
    "                     sigma  = sigma_e*diag(length(times)))  \n",
    "  \n",
    "  final_output <- list(mu=solve(Wtheta) %*% Omegas, omega= Omegas + gammas, \n",
    "                       theta=thetas, U=U, S=S, Xs=Xs, \n",
    "                       Sigma_gamma=((1/SNR))*(Atheta %*% t(Atheta)), \n",
    "                       white_noise=e_noise)\n",
    "  \n",
    "  return(final_output)\n",
    "  \n",
    "}"
   ]
  },
  {
   "cell_type": "code",
   "execution_count": 13,
   "metadata": {},
   "outputs": [],
   "source": [
    "ourPrior <- qarb(abs(do.call(rnorm, list(n=10000, mean=c(-5, 1), sd=c(1,2)))     ))"
   ]
  },
  {
   "cell_type": "code",
   "execution_count": 16,
   "metadata": {},
   "outputs": [],
   "source": [
    "data <- curve_generator_forceICA(n_obs=10000, Sigma_mu=make_rho_mat(1, 4), SNR=4, \n",
    "                            sigma_e=.05, unmixedCoordinateDist=ourPrior,\n",
    "                            times=1:100)"
   ]
  },
  {
   "cell_type": "code",
   "execution_count": null,
   "metadata": {},
   "outputs": [],
   "source": []
  },
  {
   "cell_type": "code",
   "execution_count": 17,
   "metadata": {},
   "outputs": [
    {
     "data": {
      "image/png": "[encoded data removed]",
      "text/plain": [
       "plot without title"
      ]
     },
     "metadata": {
      "image/png": {
       "height": 420,
       "width": 420
      },
      "text/plain": {
       "height": 420,
       "width": 420
      }
     },
     "output_type": "display_data"
    }
   ],
   "source": [
    "truehist(data$omega[1,])"
   ]
  },
  {
   "cell_type": "code",
   "execution_count": null,
   "metadata": {},
   "outputs": [],
   "source": []
  },
  {
   "cell_type": "code",
   "execution_count": null,
   "metadata": {},
   "outputs": [],
   "source": []
  },
  {
   "cell_type": "code",
   "execution_count": null,
   "metadata": {},
   "outputs": [],
   "source": []
  },
  {
   "cell_type": "code",
   "execution_count": 19,
   "metadata": {},
   "outputs": [],
   "source": [
    "pVars <- rpareto(10000, alpha=3+1e-06)\n"
   ]
  },
  {
   "cell_type": "code",
   "execution_count": 20,
   "metadata": {},
   "outputs": [
    {
     "data": {
      "image/png": "[encoded data removed]",
      "text/plain": [
       "plot without title"
      ]
     },
     "metadata": {
      "image/png": {
       "height": 420,
       "width": 420
      },
      "text/plain": {
       "height": 420,
       "width": 420
      }
     },
     "output_type": "display_data"
    }
   ],
   "source": [
    "truehist(pVars)"
   ]
  },
  {
   "cell_type": "markdown",
   "metadata": {},
   "source": [
    "# Scenarios Where we can show Improvement"
   ]
  },
  {
   "cell_type": "markdown",
   "metadata": {},
   "source": [
    "- Gamma: shape=1, scale-4, SNR=3, top 10%\n",
    "\n",
    "- Mixture Norm: centers at -5 and 1, standard deviations of 1 and 2, SNR= 1, all"
   ]
  },
  {
   "cell_type": "markdown",
   "metadata": {},
   "source": [
    "# Scenarios to do (Choose Three)"
   ]
  },
  {
   "cell_type": "markdown",
   "metadata": {},
   "source": [
    "- A gamma scenario, with the above parameters\n",
    "- A Gaussian case, mean=0, sd=1\n",
    "- A Gaussian Mixture case, with the above parameters"
   ]
  },
  {
   "cell_type": "code",
   "execution_count": null,
   "metadata": {},
   "outputs": [],
   "source": []
  },
  {
   "cell_type": "code",
   "execution_count": null,
   "metadata": {},
   "outputs": [],
   "source": []
  }
 ],
 "metadata": {
  "kernelspec": {
   "display_name": "R",
   "language": "R",
   "name": "ir"
  },
  "language_info": {
   "codemirror_mode": "r",
   "file_extension": ".r",
   "mimetype": "text/x-r-source",
   "name": "R",
   "pygments_lexer": "r",
   "version": "3.6.3"
  }
 },
 "nbformat": 4,
 "nbformat_minor": 4
}
